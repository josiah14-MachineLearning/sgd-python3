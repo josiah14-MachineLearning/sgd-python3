{
 "cells": [
  {
   "cell_type": "code",
   "execution_count": 1,
   "metadata": {},
   "outputs": [],
   "source": [
    "import codecs, os;__pyfile = codecs.open('''/var/folders/wb/fw9f65d55vg6sl7y48lhhn_r0000gp/T/py89441RSF''', encoding='''utf-8''');__code = __pyfile.read().encode('''utf-8''');__pyfile.close();os.remove('''/var/folders/wb/fw9f65d55vg6sl7y48lhhn_r0000gp/T/py89441RSF''');exec(compile(__code, '''/var/folders/wb/fw9f65d55vg6sl7y48lhhn_r0000gp/T/py89441RSF''', 'exec'));"
   ]
  },
  {
   "cell_type": "code",
   "execution_count": 2,
   "metadata": {},
   "outputs": [],
   "source": [
    "import codecs, os;__pyfile = codecs.open('''/var/folders/wb/fw9f65d55vg6sl7y48lhhn_r0000gp/T/py89441ecL''', encoding='''utf-8''');__code = __pyfile.read().encode('''utf-8''');__pyfile.close();os.remove('''/var/folders/wb/fw9f65d55vg6sl7y48lhhn_r0000gp/T/py89441ecL''');exec(compile(__code, '''/var/folders/wb/fw9f65d55vg6sl7y48lhhn_r0000gp/T/py89441ecL''', 'exec'));"
   ]
  },
  {
   "cell_type": "code",
   "execution_count": 3,
   "metadata": {},
   "outputs": [],
   "source": [
    "import codecs, os;__pyfile = codecs.open('''/var/folders/wb/fw9f65d55vg6sl7y48lhhn_r0000gp/T/py89441rmR''', encoding='''utf-8''');__code = __pyfile.read().encode('''utf-8''');__pyfile.close();os.remove('''/var/folders/wb/fw9f65d55vg6sl7y48lhhn_r0000gp/T/py89441rmR''');exec(compile(__code, '''/var/folders/wb/fw9f65d55vg6sl7y48lhhn_r0000gp/T/py89441rmR''', 'exec'));"
   ]
  },
  {
   "cell_type": "code",
   "execution_count": 4,
   "metadata": {},
   "outputs": [],
   "source": [
    "';'.join(__PYTHON_EL_get_completions('''\"hello'''))"
   ]
  },
  {
   "cell_type": "code",
   "execution_count": 5,
   "metadata": {},
   "outputs": [],
   "source": [
    "';'.join(__PYTHON_EL_get_completions('''\"hello'''))"
   ]
  },
  {
   "cell_type": "code",
   "execution_count": 6,
   "metadata": {},
   "outputs": [],
   "source": [
    "';'.join(__PYTHON_EL_get_completions('''\"hello'''))"
   ]
  },
  {
   "cell_type": "code",
   "execution_count": 7,
   "metadata": {},
   "outputs": [],
   "source": [
    "print(\"hello\")"
   ]
  },
  {
   "cell_type": "code",
   "execution_count": 8,
   "metadata": {},
   "outputs": [],
   "source": [
    "';'.join(__PYTHON_EL_get_completions('''notebook'''))"
   ]
  },
  {
   "cell_type": "code",
   "execution_count": 9,
   "metadata": {},
   "outputs": [],
   "source": [
    "';'.join(__PYTHON_EL_get_completions('''notebook'''))"
   ]
  },
  {
   "cell_type": "code",
   "execution_count": 10,
   "metadata": {},
   "outputs": [],
   "source": [
    "';'.join(__PYTHON_EL_get_completions('''notebook'''))"
   ]
  },
  {
   "cell_type": "code",
   "execution_count": 11,
   "metadata": {},
   "outputs": [],
   "source": [
    "';'.join(__PYTHON_EL_get_completions('''sgd'''))"
   ]
  },
  {
   "cell_type": "code",
   "execution_count": 12,
   "metadata": {},
   "outputs": [],
   "source": [
    "';'.join(__PYTHON_EL_get_completions('''experit'''))"
   ]
  },
  {
   "cell_type": "code",
   "execution_count": 13,
   "metadata": {},
   "outputs": [],
   "source": [
    "';'.join(__PYTHON_EL_get_completions('''experit'''))"
   ]
  },
  {
   "cell_type": "code",
   "execution_count": 14,
   "metadata": {},
   "outputs": [],
   "source": [
    "';'.join(__PYTHON_EL_get_completions('''experit'''))"
   ]
  },
  {
   "cell_type": "code",
   "execution_count": 15,
   "metadata": {},
   "outputs": [],
   "source": [
    "';'.join(__PYTHON_EL_get_completions('''experiments'''))"
   ]
  },
  {
   "cell_type": "code",
   "execution_count": 16,
   "metadata": {},
   "outputs": [],
   "source": [
    "';'.join(__PYTHON_EL_get_completions('''experiments'''))"
   ]
  },
  {
   "cell_type": "code",
   "execution_count": 17,
   "metadata": {},
   "outputs": [],
   "source": [
    "';'.join(__PYTHON_EL_get_completions('''experiments'''))"
   ]
  },
  {
   "cell_type": "code",
   "execution_count": 18,
   "metadata": {},
   "outputs": [],
   "source": [
    "';'.join(__PYTHON_EL_get_completions('''experiments.'''))"
   ]
  },
  {
   "cell_type": "code",
   "execution_count": 19,
   "metadata": {},
   "outputs": [],
   "source": [
    "';'.join(__PYTHON_EL_get_completions('''experiments'''))"
   ]
  },
  {
   "cell_type": "code",
   "execution_count": 20,
   "metadata": {},
   "outputs": [],
   "source": [
    "';'.join(__PYTHON_EL_get_completions('''experiments.'''))"
   ]
  },
  {
   "cell_type": "code",
   "execution_count": 21,
   "metadata": {},
   "outputs": [],
   "source": [
    "';'.join(__PYTHON_EL_get_completions('''experiments.ipy'''))"
   ]
  },
  {
   "cell_type": "code",
   "execution_count": 22,
   "metadata": {},
   "outputs": [],
   "source": [
    "';'.join(__PYTHON_EL_get_completions('''experiments'''))"
   ]
  },
  {
   "cell_type": "code",
   "execution_count": 23,
   "metadata": {},
   "outputs": [],
   "source": [
    "';'.join(__PYTHON_EL_get_completions('''experiments.ipy'''))"
   ]
  },
  {
   "cell_type": "code",
   "execution_count": 24,
   "metadata": {},
   "outputs": [],
   "source": [
    "';'.join(__PYTHON_EL_get_completions('''experiments.ipyn'''))"
   ]
  },
  {
   "cell_type": "code",
   "execution_count": 25,
   "metadata": {},
   "outputs": [],
   "source": [
    "';'.join(__PYTHON_EL_get_completions('''experiments'''))"
   ]
  },
  {
   "cell_type": "code",
   "execution_count": 26,
   "metadata": {},
   "outputs": [],
   "source": [
    "';'.join(__PYTHON_EL_get_completions('''experiments.ipyn'''))"
   ]
  },
  {
   "cell_type": "code",
   "execution_count": 27,
   "metadata": {},
   "outputs": [],
   "source": [
    "';'.join(__PYTHON_EL_get_completions('''experiments.ipynb'''))"
   ]
  },
  {
   "cell_type": "code",
   "execution_count": 28,
   "metadata": {},
   "outputs": [],
   "source": [
    "';'.join(__PYTHON_EL_get_completions('''experiments'''))"
   ]
  },
  {
   "cell_type": "code",
   "execution_count": 29,
   "metadata": {},
   "outputs": [],
   "source": [
    "';'.join(__PYTHON_EL_get_completions('''experiments.ipynb'''))"
   ]
  }
 ],
 "metadata": {},
 "nbformat": 4,
 "nbformat_minor": 0
}
